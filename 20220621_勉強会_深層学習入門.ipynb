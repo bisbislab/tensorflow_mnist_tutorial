{
  "nbformat": 4,
  "nbformat_minor": 0,
  "metadata": {
    "colab": {
      "provenance": []
    },
    "kernelspec": {
      "name": "python3",
      "display_name": "Python 3"
    },
    "language_info": {
      "name": "python"
    },
    "accelerator": "GPU",
    "gpuClass": "standard"
  },
  "cells": [
    {
      "cell_type": "code",
      "source": [
        "import matplotlib.pyplot as plt\n",
        "\n",
        "import tensorflow as tf\n",
        "from tensorflow.keras.layers import Conv2D, Dense, Flatten, MaxPool2D\n",
        "from tensorflow.keras.models import Sequential"
      ],
      "metadata": {
        "id": "Qx3iMp0Ierwv"
      },
      "execution_count": null,
      "outputs": []
    },
    {
      "cell_type": "markdown",
      "source": [
        "## MNIST データセットをロード\n",
        "\n",
        "- Keras が配布してくれているので、別途ダウンロードしてきてフォルダに保存などの手間なく、下記のコードでロードできる\n",
        "\n",
        "### データセット\n",
        "\n",
        "- x_train: 学習用データ（入力画像, 28x28 のグレースケール, 60,000枚）\n",
        "- y_train: 学習用データ（正解ラベル）\n",
        "- x_test: テスト用データ（入力画像, 10,000枚）\n",
        "- y_test: テスト用データ（正解ラベル）"
      ],
      "metadata": {
        "id": "ZJlt9KgoeeIz"
      }
    },
    {
      "cell_type": "code",
      "execution_count": null,
      "metadata": {
        "id": "unAVWfOJa560",
        "colab": {
          "base_uri": "https://localhost:8080/"
        },
        "outputId": "d06aa065-d33d-487f-bb57-c5340a49dc7d"
      },
      "outputs": [
        {
          "output_type": "stream",
          "name": "stdout",
          "text": [
            "Downloading data from https://storage.googleapis.com/tensorflow/tf-keras-datasets/mnist.npz\n",
            "11493376/11490434 [==============================] - 0s 0us/step\n",
            "11501568/11490434 [==============================] - 0s 0us/step\n"
          ]
        },
        {
          "output_type": "execute_result",
          "data": {
            "text/plain": [
              "((60000, 28, 28), (60000,), (10000, 28, 28), (10000,))"
            ]
          },
          "metadata": {},
          "execution_count": 2
        }
      ],
      "source": [
        "mnist = tf.keras.datasets.mnist\n",
        "(x_train, y_train), (x_test, y_test) = mnist.load_data()\n",
        "x_train.shape, y_train.shape, x_test.shape, y_test.shape"
      ]
    },
    {
      "cell_type": "markdown",
      "source": [
        "## 画像を可視化してみる\n",
        "\n",
        "- 白黒ではなく、なぜか白いほど黄色・黒いほど紫で表示されるのがデフォルトなので注意"
      ],
      "metadata": {
        "id": "YK2n7tXSqJBX"
      }
    },
    {
      "cell_type": "code",
      "source": [
        "plt.imshow(x_train[0]), y_train[0]\n",
        "\n",
        "# 以下2行を追加でグレースケールで表示される\n",
        "# plt.gray()\n",
        "# plt.show()"
      ],
      "metadata": {
        "colab": {
          "base_uri": "https://localhost:8080/",
          "height": 283
        },
        "id": "KWX0QfDCqLaX",
        "outputId": "f36d2c84-86c2-46d9-d3bd-69ccf834b236"
      },
      "execution_count": null,
      "outputs": [
        {
          "output_type": "execute_result",
          "data": {
            "text/plain": [
              "(<matplotlib.image.AxesImage at 0x7f633d36a290>, 5)"
            ]
          },
          "metadata": {},
          "execution_count": 3
        },
        {
          "output_type": "display_data",
          "data": {
            "text/plain": [
              "<Figure size 432x288 with 1 Axes>"
            ],
            "image/png": "[encoded data removed]"
          },
          "metadata": {
            "needs_background": "light"
          }
        }
      ]
    },
    {
      "cell_type": "markdown",
      "source": [
        "## 前処理\n",
        "\n",
        "- 0-1 正規化\n",
        "- チャネルの次元を追加し、モデルの入力に形状を合わせる\n",
        "- 型を変換（エラー出たので汗）\n",
        "- （ラベルの One-hot 化なども必要に応じて行う）"
      ],
      "metadata": {
        "id": "8_jZ7hTWuAoX"
      }
    },
    {
      "cell_type": "code",
      "source": [
        "# 0-1 正規化 \n",
        "x_train = x_train / 255.0\n",
        "x_test = x_test / 255.0\n",
        "\n",
        "# 次元の追加\n",
        "x_train = x_train[..., tf.newaxis]\n",
        "x_test = x_test[..., tf.newaxis]\n",
        "\n",
        "# 型の変換\n",
        "x_train = x_train.astype(\"float32\")\n",
        "x_test = x_test.astype(\"float32\")"
      ],
      "metadata": {
        "id": "jokCLYSRft12"
      },
      "execution_count": null,
      "outputs": []
    },
    {
      "cell_type": "markdown",
      "source": [
        "## モデルの定義（Sequential API）\n",
        "\n",
        "- tensorflow.keras.model.Sequential クラスに、配列で各層を与える\n",
        "- tensorflow.keras.layers 内に色々なレイヤーのベースがある\n",
        "- Colab の場合、Conv2D などのクラス名部分にカーソルを置いて少し待つと、そのクラスの情報が得られる"
      ],
      "metadata": {
        "id": "UPdNbHHbvVsw"
      }
    },
    {
      "cell_type": "code",
      "source": [
        "input_shape = x_train.shape[1:]\n",
        "output_dim = 10\n",
        "\n",
        "model = Sequential([\n",
        "    Conv2D(32, 3, padding=\"same\", activation=\"relu\", name=\"conv_1\", input_shape=input_shape),\n",
        "    MaxPool2D(name=\"pool_1\"),\n",
        "    Conv2D(64, 3, padding=\"same\", activation=\"relu\", name=\"conv_2\"),\n",
        "    MaxPool2D(name=\"pool_2\"),\n",
        "    Conv2D(128, 3, padding=\"same\", activation=\"relu\", name=\"conv_3\"),\n",
        "    Flatten(),\n",
        "    Dense(1024, activation=\"relu\", name=\"dense_1\"),\n",
        "    Dense(256, activation=\"relu\", name=\"dense_2\"),\n",
        "    Dense(output_dim, activation=\"softmax\", name=\"dense_3\"),\n",
        "])"
      ],
      "metadata": {
        "id": "bovltVu5u52K"
      },
      "execution_count": null,
      "outputs": []
    },
    {
      "cell_type": "markdown",
      "source": [
        "## 完成したモデルの情報を確認\n",
        "\n",
        "- summay() は Sequential API を用いた形式で、初めのレイヤーに引数 input_shape を定義しなければ見れない\n",
        "  - キーワード：Define and Run と Define by Run\n",
        "- Keras のユーティリティ関数 model_to_dot() を使用して SVG の取得も可能\n",
        "- summary()：文字列なのでターミナルでも容易に確認可能、model_to_dot()：スライドや論文に貼り付けたい場合、など適宜使い分け"
      ],
      "metadata": {
        "id": "cjm-mvHUwg9L"
      }
    },
    {
      "cell_type": "code",
      "source": [
        "model.summary()"
      ],
      "metadata": {
        "colab": {
          "base_uri": "https://localhost:8080/"
        },
        "id": "dsEIJT1mwlDE",
        "outputId": "cbeca7a3-19a0-4e80-aa30-9bc5fa36bacf"
      },
      "execution_count": null,
      "outputs": [
        {
          "output_type": "stream",
          "name": "stdout",
          "text": [
            "Model: \"sequential\"\n",
            "_________________________________________________________________\n",
            " Layer (type)                Output Shape              Param #   \n",
            "=================================================================\n",
            " conv_1 (Conv2D)             (None, 28, 28, 32)        320       \n",
            "                                                                 \n",
            " pool_1 (MaxPooling2D)       (None, 14, 14, 32)        0         \n",
            "                                                                 \n",
            " conv_2 (Conv2D)             (None, 14, 14, 64)        18496     \n",
            "                                                                 \n",
            " pool_2 (MaxPooling2D)       (None, 7, 7, 64)          0         \n",
            "                                                                 \n",
            " conv_3 (Conv2D)             (None, 7, 7, 128)         73856     \n",
            "                                                                 \n",
            " flatten (Flatten)           (None, 6272)              0         \n",
            "                                                                 \n",
            " dense_1 (Dense)             (None, 1024)              6423552   \n",
            "                                                                 \n",
            " dense_2 (Dense)             (None, 256)               262400    \n",
            "                                                                 \n",
            " dense_3 (Dense)             (None, 10)                2570      \n",
            "                                                                 \n",
            "=================================================================\n",
            "Total params: 6,781,194\n",
            "Trainable params: 6,781,194\n",
            "Non-trainable params: 0\n",
            "_________________________________________________________________\n"
          ]
        }
      ]
    },
    {
      "cell_type": "code",
      "source": [
        "from IPython.display import SVG\n",
        "from keras.utils.vis_utils import model_to_dot\n",
        "\n",
        "SVG(model_to_dot(model, show_shapes=True, dpi=65).create(prog='dot', format='svg'))"
      ],
      "metadata": {
        "colab": {
          "base_uri": "https://localhost:8080/",
          "height": 987
        },
        "id": "41BGwk3xL4Ol",
        "outputId": "d3e32465-b11d-422c-e617-acbf77f9f34c"
      },
      "execution_count": null,
      "outputs": [
        {
          "output_type": "execute_result",
          "data": {
            "text/plain": [
              "<IPython.core.display.SVG object>"
            ],
            "image/svg+xml": "<svg height=\"724pt\" viewBox=\"0.00 0.00 423.00 802.00\" width=\"382pt\" xmlns=\"http://www.w3.org/2000/svg\" xmlns:xlink=\"http://www.w3.org/1999/xlink\">\n<g class=\"graph\" id=\"graph0\" transform=\"scale(.9028 .9028) rotate(0) translate(4 798)\">\n<title>G</title>\n<polygon fill=\"#ffffff\" points=\"-4,4 -4,-798 419,-798 419,4 -4,4\" stroke=\"transparent\"/>\n<!-- 140064199609616 -->\n<g class=\"node\" id=\"node1\">\n<title>140064199609616</title>\n<polygon fill=\"none\" points=\"3.5,-747.5 3.5,-793.5 411.5,-793.5 411.5,-747.5 3.5,-747.5\" stroke=\"#000000\"/>\n<text fill=\"#000000\" font-family=\"Times,serif\" font-size=\"14.00\" text-anchor=\"middle\" x=\"52.5\" y=\"-778.3\">conv_1_input</text>\n<polyline fill=\"none\" points=\"3.5,-770.5 101.5,-770.5 \" stroke=\"#000000\"/>\n<text fill=\"#000000\" font-family=\"Times,serif\" font-size=\"14.00\" text-anchor=\"middle\" x=\"52.5\" y=\"-755.3\">InputLayer</text>\n<polyline fill=\"none\" points=\"101.5,-747.5 101.5,-793.5 \" stroke=\"#000000\"/>\n<text fill=\"#000000\" font-family=\"Times,serif\" font-size=\"14.00\" text-anchor=\"middle\" x=\"130.5\" y=\"-778.3\">input:</text>\n<polyline fill=\"none\" points=\"101.5,-770.5 159.5,-770.5 \" stroke=\"#000000\"/>\n<text fill=\"#000000\" font-family=\"Times,serif\" font-size=\"14.00\" text-anchor=\"middle\" x=\"130.5\" y=\"-755.3\">output:</text>\n<polyline fill=\"none\" points=\"159.5,-747.5 159.5,-793.5 \" stroke=\"#000000\"/>\n<text fill=\"#000000\" font-family=\"Times,serif\" font-size=\"14.00\" text-anchor=\"middle\" x=\"222.5\" y=\"-766.8\">[(None, 28, 28, 1)]</text>\n<polyline fill=\"none\" points=\"285.5,-747.5 285.5,-793.5 \" stroke=\"#000000\"/>\n<text fill=\"#000000\" font-family=\"Times,serif\" font-size=\"14.00\" text-anchor=\"middle\" x=\"348.5\" y=\"-766.8\">[(None, 28, 28, 1)]</text>\n</g>\n<!-- 140064205000208 -->\n<g class=\"node\" id=\"node2\">\n<title>140064205000208</title>\n<polygon fill=\"none\" points=\"24,-664.5 24,-710.5 391,-710.5 391,-664.5 24,-664.5\" stroke=\"#000000\"/>\n<text fill=\"#000000\" font-family=\"Times,serif\" font-size=\"14.00\" text-anchor=\"middle\" x=\"57.5\" y=\"-695.3\">conv_1</text>\n<polyline fill=\"none\" points=\"24,-687.5 91,-687.5 \" stroke=\"#000000\"/>\n<text fill=\"#000000\" font-family=\"Times,serif\" font-size=\"14.00\" text-anchor=\"middle\" x=\"57.5\" y=\"-672.3\">Conv2D</text>\n<polyline fill=\"none\" points=\"91,-664.5 91,-710.5 \" stroke=\"#000000\"/>\n<text fill=\"#000000\" font-family=\"Times,serif\" font-size=\"14.00\" text-anchor=\"middle\" x=\"120\" y=\"-695.3\">input:</text>\n<polyline fill=\"none\" points=\"91,-687.5 149,-687.5 \" stroke=\"#000000\"/>\n<text fill=\"#000000\" font-family=\"Times,serif\" font-size=\"14.00\" text-anchor=\"middle\" x=\"120\" y=\"-672.3\">output:</text>\n<polyline fill=\"none\" points=\"149,-664.5 149,-710.5 \" stroke=\"#000000\"/>\n<text fill=\"#000000\" font-family=\"Times,serif\" font-size=\"14.00\" text-anchor=\"middle\" x=\"207.5\" y=\"-683.8\">(None, 28, 28, 1)</text>\n<polyline fill=\"none\" points=\"266,-664.5 266,-710.5 \" stroke=\"#000000\"/>\n<text fill=\"#000000\" font-family=\"Times,serif\" font-size=\"14.00\" text-anchor=\"middle\" x=\"328.5\" y=\"-683.8\">(None, 28, 28, 32)</text>\n</g>\n<!-- 140064199609616&#45;&gt;140064205000208 -->\n<g class=\"edge\" id=\"edge1\">\n<title>140064199609616-&gt;140064205000208</title>\n<path d=\"M207.5,-747.3799C207.5,-739.1745 207.5,-729.7679 207.5,-720.8786\" fill=\"none\" stroke=\"#000000\"/>\n<polygon fill=\"#000000\" points=\"211.0001,-720.784 207.5,-710.784 204.0001,-720.784 211.0001,-720.784\" stroke=\"#000000\"/>\n</g>\n<!-- 140064322190096 -->\n<g class=\"node\" id=\"node3\">\n<title>140064322190096</title>\n<polygon fill=\"none\" points=\"0,-581.5 0,-627.5 415,-627.5 415,-581.5 0,-581.5\" stroke=\"#000000\"/>\n<text fill=\"#000000\" font-family=\"Times,serif\" font-size=\"14.00\" text-anchor=\"middle\" x=\"53.5\" y=\"-612.3\">pool_1</text>\n<polyline fill=\"none\" points=\"0,-604.5 107,-604.5 \" stroke=\"#000000\"/>\n<text fill=\"#000000\" font-family=\"Times,serif\" font-size=\"14.00\" text-anchor=\"middle\" x=\"53.5\" y=\"-589.3\">MaxPooling2D</text>\n<polyline fill=\"none\" points=\"107,-581.5 107,-627.5 \" stroke=\"#000000\"/>\n<text fill=\"#000000\" font-family=\"Times,serif\" font-size=\"14.00\" text-anchor=\"middle\" x=\"136\" y=\"-612.3\">input:</text>\n<polyline fill=\"none\" points=\"107,-604.5 165,-604.5 \" stroke=\"#000000\"/>\n<text fill=\"#000000\" font-family=\"Times,serif\" font-size=\"14.00\" text-anchor=\"middle\" x=\"136\" y=\"-589.3\">output:</text>\n<polyline fill=\"none\" points=\"165,-581.5 165,-627.5 \" stroke=\"#000000\"/>\n<text fill=\"#000000\" font-family=\"Times,serif\" font-size=\"14.00\" text-anchor=\"middle\" x=\"227.5\" y=\"-600.8\">(None, 28, 28, 32)</text>\n<polyline fill=\"none\" points=\"290,-581.5 290,-627.5 \" stroke=\"#000000\"/>\n<text fill=\"#000000\" font-family=\"Times,serif\" font-size=\"14.00\" text-anchor=\"middle\" x=\"352.5\" y=\"-600.8\">(None, 14, 14, 32)</text>\n</g>\n<!-- 140064205000208&#45;&gt;140064322190096 -->\n<g class=\"edge\" id=\"edge2\">\n<title>140064205000208-&gt;140064322190096</title>\n<path d=\"M207.5,-664.3799C207.5,-656.1745 207.5,-646.7679 207.5,-637.8786\" fill=\"none\" stroke=\"#000000\"/>\n<polygon fill=\"#000000\" points=\"211.0001,-637.784 207.5,-627.784 204.0001,-637.784 211.0001,-637.784\" stroke=\"#000000\"/>\n</g>\n<!-- 140064205106000 -->\n<g class=\"node\" id=\"node4\">\n<title>140064205106000</title>\n<polygon fill=\"none\" points=\"20,-498.5 20,-544.5 395,-544.5 395,-498.5 20,-498.5\" stroke=\"#000000\"/>\n<text fill=\"#000000\" font-family=\"Times,serif\" font-size=\"14.00\" text-anchor=\"middle\" x=\"53.5\" y=\"-529.3\">conv_2</text>\n<polyline fill=\"none\" points=\"20,-521.5 87,-521.5 \" stroke=\"#000000\"/>\n<text fill=\"#000000\" font-family=\"Times,serif\" font-size=\"14.00\" text-anchor=\"middle\" x=\"53.5\" y=\"-506.3\">Conv2D</text>\n<polyline fill=\"none\" points=\"87,-498.5 87,-544.5 \" stroke=\"#000000\"/>\n<text fill=\"#000000\" font-family=\"Times,serif\" font-size=\"14.00\" text-anchor=\"middle\" x=\"116\" y=\"-529.3\">input:</text>\n<polyline fill=\"none\" points=\"87,-521.5 145,-521.5 \" stroke=\"#000000\"/>\n<text fill=\"#000000\" font-family=\"Times,serif\" font-size=\"14.00\" text-anchor=\"middle\" x=\"116\" y=\"-506.3\">output:</text>\n<polyline fill=\"none\" points=\"145,-498.5 145,-544.5 \" stroke=\"#000000\"/>\n<text fill=\"#000000\" font-family=\"Times,serif\" font-size=\"14.00\" text-anchor=\"middle\" x=\"207.5\" y=\"-517.8\">(None, 14, 14, 32)</text>\n<polyline fill=\"none\" points=\"270,-498.5 270,-544.5 \" stroke=\"#000000\"/>\n<text fill=\"#000000\" font-family=\"Times,serif\" font-size=\"14.00\" text-anchor=\"middle\" x=\"332.5\" y=\"-517.8\">(None, 14, 14, 64)</text>\n</g>\n<!-- 140064322190096&#45;&gt;140064205106000 -->\n<g class=\"edge\" id=\"edge3\">\n<title>140064322190096-&gt;140064205106000</title>\n<path d=\"M207.5,-581.3799C207.5,-573.1745 207.5,-563.7679 207.5,-554.8786\" fill=\"none\" stroke=\"#000000\"/>\n<polygon fill=\"#000000\" points=\"211.0001,-554.784 207.5,-544.784 204.0001,-554.784 211.0001,-554.784\" stroke=\"#000000\"/>\n</g>\n<!-- 140064205107152 -->\n<g class=\"node\" id=\"node5\">\n<title>140064205107152</title>\n<polygon fill=\"none\" points=\"7.5,-415.5 7.5,-461.5 407.5,-461.5 407.5,-415.5 7.5,-415.5\" stroke=\"#000000\"/>\n<text fill=\"#000000\" font-family=\"Times,serif\" font-size=\"14.00\" text-anchor=\"middle\" x=\"61\" y=\"-446.3\">pool_2</text>\n<polyline fill=\"none\" points=\"7.5,-438.5 114.5,-438.5 \" stroke=\"#000000\"/>\n<text fill=\"#000000\" font-family=\"Times,serif\" font-size=\"14.00\" text-anchor=\"middle\" x=\"61\" y=\"-423.3\">MaxPooling2D</text>\n<polyline fill=\"none\" points=\"114.5,-415.5 114.5,-461.5 \" stroke=\"#000000\"/>\n<text fill=\"#000000\" font-family=\"Times,serif\" font-size=\"14.00\" text-anchor=\"middle\" x=\"143.5\" y=\"-446.3\">input:</text>\n<polyline fill=\"none\" points=\"114.5,-438.5 172.5,-438.5 \" stroke=\"#000000\"/>\n<text fill=\"#000000\" font-family=\"Times,serif\" font-size=\"14.00\" text-anchor=\"middle\" x=\"143.5\" y=\"-423.3\">output:</text>\n<polyline fill=\"none\" points=\"172.5,-415.5 172.5,-461.5 \" stroke=\"#000000\"/>\n<text fill=\"#000000\" font-family=\"Times,serif\" font-size=\"14.00\" text-anchor=\"middle\" x=\"235\" y=\"-434.8\">(None, 14, 14, 64)</text>\n<polyline fill=\"none\" points=\"297.5,-415.5 297.5,-461.5 \" stroke=\"#000000\"/>\n<text fill=\"#000000\" font-family=\"Times,serif\" font-size=\"14.00\" text-anchor=\"middle\" x=\"352.5\" y=\"-434.8\">(None, 7, 7, 64)</text>\n</g>\n<!-- 140064205106000&#45;&gt;140064205107152 -->\n<g class=\"edge\" id=\"edge4\">\n<title>140064205106000-&gt;140064205107152</title>\n<path d=\"M207.5,-498.3799C207.5,-490.1745 207.5,-480.7679 207.5,-471.8786\" fill=\"none\" stroke=\"#000000\"/>\n<polygon fill=\"#000000\" points=\"211.0001,-471.784 207.5,-461.784 204.0001,-471.784 211.0001,-471.784\" stroke=\"#000000\"/>\n</g>\n<!-- 140064199586512 -->\n<g class=\"node\" id=\"node6\">\n<title>140064199586512</title>\n<polygon fill=\"none\" points=\"31.5,-332.5 31.5,-378.5 383.5,-378.5 383.5,-332.5 31.5,-332.5\" stroke=\"#000000\"/>\n<text fill=\"#000000\" font-family=\"Times,serif\" font-size=\"14.00\" text-anchor=\"middle\" x=\"65\" y=\"-363.3\">conv_3</text>\n<polyline fill=\"none\" points=\"31.5,-355.5 98.5,-355.5 \" stroke=\"#000000\"/>\n<text fill=\"#000000\" font-family=\"Times,serif\" font-size=\"14.00\" text-anchor=\"middle\" x=\"65\" y=\"-340.3\">Conv2D</text>\n<polyline fill=\"none\" points=\"98.5,-332.5 98.5,-378.5 \" stroke=\"#000000\"/>\n<text fill=\"#000000\" font-family=\"Times,serif\" font-size=\"14.00\" text-anchor=\"middle\" x=\"127.5\" y=\"-363.3\">input:</text>\n<polyline fill=\"none\" points=\"98.5,-355.5 156.5,-355.5 \" stroke=\"#000000\"/>\n<text fill=\"#000000\" font-family=\"Times,serif\" font-size=\"14.00\" text-anchor=\"middle\" x=\"127.5\" y=\"-340.3\">output:</text>\n<polyline fill=\"none\" points=\"156.5,-332.5 156.5,-378.5 \" stroke=\"#000000\"/>\n<text fill=\"#000000\" font-family=\"Times,serif\" font-size=\"14.00\" text-anchor=\"middle\" x=\"211.5\" y=\"-351.8\">(None, 7, 7, 64)</text>\n<polyline fill=\"none\" points=\"266.5,-332.5 266.5,-378.5 \" stroke=\"#000000\"/>\n<text fill=\"#000000\" font-family=\"Times,serif\" font-size=\"14.00\" text-anchor=\"middle\" x=\"325\" y=\"-351.8\">(None, 7, 7, 128)</text>\n</g>\n<!-- 140064205107152&#45;&gt;140064199586512 -->\n<g class=\"edge\" id=\"edge5\">\n<title>140064205107152-&gt;140064199586512</title>\n<path d=\"M207.5,-415.3799C207.5,-407.1745 207.5,-397.7679 207.5,-388.8786\" fill=\"none\" stroke=\"#000000\"/>\n<polygon fill=\"#000000\" points=\"211.0001,-388.784 207.5,-378.784 204.0001,-388.784 211.0001,-388.784\" stroke=\"#000000\"/>\n</g>\n<!-- 140064199587536 -->\n<g class=\"node\" id=\"node7\">\n<title>140064199587536</title>\n<polygon fill=\"none\" points=\"44.5,-249.5 44.5,-295.5 370.5,-295.5 370.5,-249.5 44.5,-249.5\" stroke=\"#000000\"/>\n<text fill=\"#000000\" font-family=\"Times,serif\" font-size=\"14.00\" text-anchor=\"middle\" x=\"72.5\" y=\"-280.3\">flatten</text>\n<polyline fill=\"none\" points=\"44.5,-272.5 100.5,-272.5 \" stroke=\"#000000\"/>\n<text fill=\"#000000\" font-family=\"Times,serif\" font-size=\"14.00\" text-anchor=\"middle\" x=\"72.5\" y=\"-257.3\">Flatten</text>\n<polyline fill=\"none\" points=\"100.5,-249.5 100.5,-295.5 \" stroke=\"#000000\"/>\n<text fill=\"#000000\" font-family=\"Times,serif\" font-size=\"14.00\" text-anchor=\"middle\" x=\"129.5\" y=\"-280.3\">input:</text>\n<polyline fill=\"none\" points=\"100.5,-272.5 158.5,-272.5 \" stroke=\"#000000\"/>\n<text fill=\"#000000\" font-family=\"Times,serif\" font-size=\"14.00\" text-anchor=\"middle\" x=\"129.5\" y=\"-257.3\">output:</text>\n<polyline fill=\"none\" points=\"158.5,-249.5 158.5,-295.5 \" stroke=\"#000000\"/>\n<text fill=\"#000000\" font-family=\"Times,serif\" font-size=\"14.00\" text-anchor=\"middle\" x=\"217\" y=\"-268.8\">(None, 7, 7, 128)</text>\n<polyline fill=\"none\" points=\"275.5,-249.5 275.5,-295.5 \" stroke=\"#000000\"/>\n<text fill=\"#000000\" font-family=\"Times,serif\" font-size=\"14.00\" text-anchor=\"middle\" x=\"323\" y=\"-268.8\">(None, 6272)</text>\n</g>\n<!-- 140064199586512&#45;&gt;140064199587536 -->\n<g class=\"edge\" id=\"edge6\">\n<title>140064199586512-&gt;140064199587536</title>\n<path d=\"M207.5,-332.3799C207.5,-324.1745 207.5,-314.7679 207.5,-305.8786\" fill=\"none\" stroke=\"#000000\"/>\n<polygon fill=\"#000000\" points=\"211.0001,-305.784 207.5,-295.784 204.0001,-305.784 211.0001,-305.784\" stroke=\"#000000\"/>\n</g>\n<!-- 140064199588752 -->\n<g class=\"node\" id=\"node8\">\n<title>140064199588752</title>\n<polygon fill=\"none\" points=\"51.5,-166.5 51.5,-212.5 363.5,-212.5 363.5,-166.5 51.5,-166.5\" stroke=\"#000000\"/>\n<text fill=\"#000000\" font-family=\"Times,serif\" font-size=\"14.00\" text-anchor=\"middle\" x=\"83.5\" y=\"-197.3\">dense_1</text>\n<polyline fill=\"none\" points=\"51.5,-189.5 115.5,-189.5 \" stroke=\"#000000\"/>\n<text fill=\"#000000\" font-family=\"Times,serif\" font-size=\"14.00\" text-anchor=\"middle\" x=\"83.5\" y=\"-174.3\">Dense</text>\n<polyline fill=\"none\" points=\"115.5,-166.5 115.5,-212.5 \" stroke=\"#000000\"/>\n<text fill=\"#000000\" font-family=\"Times,serif\" font-size=\"14.00\" text-anchor=\"middle\" x=\"144.5\" y=\"-197.3\">input:</text>\n<polyline fill=\"none\" points=\"115.5,-189.5 173.5,-189.5 \" stroke=\"#000000\"/>\n<text fill=\"#000000\" font-family=\"Times,serif\" font-size=\"14.00\" text-anchor=\"middle\" x=\"144.5\" y=\"-174.3\">output:</text>\n<polyline fill=\"none\" points=\"173.5,-166.5 173.5,-212.5 \" stroke=\"#000000\"/>\n<text fill=\"#000000\" font-family=\"Times,serif\" font-size=\"14.00\" text-anchor=\"middle\" x=\"221\" y=\"-185.8\">(None, 6272)</text>\n<polyline fill=\"none\" points=\"268.5,-166.5 268.5,-212.5 \" stroke=\"#000000\"/>\n<text fill=\"#000000\" font-family=\"Times,serif\" font-size=\"14.00\" text-anchor=\"middle\" x=\"316\" y=\"-185.8\">(None, 1024)</text>\n</g>\n<!-- 140064199587536&#45;&gt;140064199588752 -->\n<g class=\"edge\" id=\"edge7\">\n<title>140064199587536-&gt;140064199588752</title>\n<path d=\"M207.5,-249.3799C207.5,-241.1745 207.5,-231.7679 207.5,-222.8786\" fill=\"none\" stroke=\"#000000\"/>\n<polygon fill=\"#000000\" points=\"211.0001,-222.784 207.5,-212.784 204.0001,-222.784 211.0001,-222.784\" stroke=\"#000000\"/>\n</g>\n<!-- 140064199589392 -->\n<g class=\"node\" id=\"node9\">\n<title>140064199589392</title>\n<polygon fill=\"none\" points=\"55.5,-83.5 55.5,-129.5 359.5,-129.5 359.5,-83.5 55.5,-83.5\" stroke=\"#000000\"/>\n<text fill=\"#000000\" font-family=\"Times,serif\" font-size=\"14.00\" text-anchor=\"middle\" x=\"87.5\" y=\"-114.3\">dense_2</text>\n<polyline fill=\"none\" points=\"55.5,-106.5 119.5,-106.5 \" stroke=\"#000000\"/>\n<text fill=\"#000000\" font-family=\"Times,serif\" font-size=\"14.00\" text-anchor=\"middle\" x=\"87.5\" y=\"-91.3\">Dense</text>\n<polyline fill=\"none\" points=\"119.5,-83.5 119.5,-129.5 \" stroke=\"#000000\"/>\n<text fill=\"#000000\" font-family=\"Times,serif\" font-size=\"14.00\" text-anchor=\"middle\" x=\"148.5\" y=\"-114.3\">input:</text>\n<polyline fill=\"none\" points=\"119.5,-106.5 177.5,-106.5 \" stroke=\"#000000\"/>\n<text fill=\"#000000\" font-family=\"Times,serif\" font-size=\"14.00\" text-anchor=\"middle\" x=\"148.5\" y=\"-91.3\">output:</text>\n<polyline fill=\"none\" points=\"177.5,-83.5 177.5,-129.5 \" stroke=\"#000000\"/>\n<text fill=\"#000000\" font-family=\"Times,serif\" font-size=\"14.00\" text-anchor=\"middle\" x=\"225\" y=\"-102.8\">(None, 1024)</text>\n<polyline fill=\"none\" points=\"272.5,-83.5 272.5,-129.5 \" stroke=\"#000000\"/>\n<text fill=\"#000000\" font-family=\"Times,serif\" font-size=\"14.00\" text-anchor=\"middle\" x=\"316\" y=\"-102.8\">(None, 256)</text>\n</g>\n<!-- 140064199588752&#45;&gt;140064199589392 -->\n<g class=\"edge\" id=\"edge8\">\n<title>140064199588752-&gt;140064199589392</title>\n<path d=\"M207.5,-166.3799C207.5,-158.1745 207.5,-148.7679 207.5,-139.8786\" fill=\"none\" stroke=\"#000000\"/>\n<polygon fill=\"#000000\" points=\"211.0001,-139.784 207.5,-129.784 204.0001,-139.784 211.0001,-139.784\" stroke=\"#000000\"/>\n</g>\n<!-- 140064199606672 -->\n<g class=\"node\" id=\"node10\">\n<title>140064199606672</title>\n<polygon fill=\"none\" points=\"63,-.5 63,-46.5 352,-46.5 352,-.5 63,-.5\" stroke=\"#000000\"/>\n<text fill=\"#000000\" font-family=\"Times,serif\" font-size=\"14.00\" text-anchor=\"middle\" x=\"95\" y=\"-31.3\">dense_3</text>\n<polyline fill=\"none\" points=\"63,-23.5 127,-23.5 \" stroke=\"#000000\"/>\n<text fill=\"#000000\" font-family=\"Times,serif\" font-size=\"14.00\" text-anchor=\"middle\" x=\"95\" y=\"-8.3\">Dense</text>\n<polyline fill=\"none\" points=\"127,-.5 127,-46.5 \" stroke=\"#000000\"/>\n<text fill=\"#000000\" font-family=\"Times,serif\" font-size=\"14.00\" text-anchor=\"middle\" x=\"156\" y=\"-31.3\">input:</text>\n<polyline fill=\"none\" points=\"127,-23.5 185,-23.5 \" stroke=\"#000000\"/>\n<text fill=\"#000000\" font-family=\"Times,serif\" font-size=\"14.00\" text-anchor=\"middle\" x=\"156\" y=\"-8.3\">output:</text>\n<polyline fill=\"none\" points=\"185,-.5 185,-46.5 \" stroke=\"#000000\"/>\n<text fill=\"#000000\" font-family=\"Times,serif\" font-size=\"14.00\" text-anchor=\"middle\" x=\"228.5\" y=\"-19.8\">(None, 256)</text>\n<polyline fill=\"none\" points=\"272,-.5 272,-46.5 \" stroke=\"#000000\"/>\n<text fill=\"#000000\" font-family=\"Times,serif\" font-size=\"14.00\" text-anchor=\"middle\" x=\"312\" y=\"-19.8\">(None, 10)</text>\n</g>\n<!-- 140064199589392&#45;&gt;140064199606672 -->\n<g class=\"edge\" id=\"edge9\">\n<title>140064199589392-&gt;140064199606672</title>\n<path d=\"M207.5,-83.3799C207.5,-75.1745 207.5,-65.7679 207.5,-56.8786\" fill=\"none\" stroke=\"#000000\"/>\n<polygon fill=\"#000000\" points=\"211.0001,-56.784 207.5,-46.784 204.0001,-56.784 211.0001,-56.784\" stroke=\"#000000\"/>\n</g>\n</g>\n</svg>"
          },
          "metadata": {},
          "execution_count": 7
        }
      ]
    },
    {
      "cell_type": "markdown",
      "source": [
        "最適化手法・損失関数・評価指標を設定\n",
        "\n",
        "- 各種クラスを継承して、独自のクラスを作成することも可能\n",
        "  - 例えば Contrastive Learning なら、Loss 関数を独自のものに置き換えています\n",
        "- もしラベルデータが One-hot 化されていたら、SparseCategoricalCrossentropy の代わりに CategoricalCrossentropy を使用することができる"
      ],
      "metadata": {
        "id": "Enq5m8QdxwnE"
      }
    },
    {
      "cell_type": "code",
      "source": [
        "optimizer = tf.keras.optimizers.Adam()\n",
        "loss_fn = tf.keras.losses.SparseCategoricalCrossentropy()\n",
        "model.compile(optimizer=optimizer, loss=loss_fn, metrics=[\"accuracy\"])"
      ],
      "metadata": {
        "id": "YDfdDzPYxvON"
      },
      "execution_count": null,
      "outputs": []
    },
    {
      "cell_type": "markdown",
      "source": [
        "## 学習\n",
        "\n",
        "- データやその他情報を与えて fit() メソッドを呼び出すと学習が開始される\n",
        "  - すなわち GPU をぶん回す関数\n",
        "  - 深層学習が何時間・何日とかかかるとか言ってるのも、基本はこの関数の実行のこと"
      ],
      "metadata": {
        "id": "oKXBjbFR3NR4"
      }
    },
    {
      "cell_type": "markdown",
      "source": [
        "###fit() の出力の見方\n",
        "\n",
        "- fit() では、いい感じに学習の状況を表示してくれる\n",
        "  - 普通（PyTorch や Tensorflow でも fit() を使わずに学習する場合）は毎ターン呼び出した学習用の関数の戻り値として結果が返ってくるので、それを print() するなどの記述が必要\n",
        "\n",
        "Epoch 3/10\n",
        "1875/1875 [==============================] - 8s 4ms/step - loss: 0.0318 - accuracy: 0.9909\n",
        "\n",
        "- Epoch 3/10：\n",
        "  - 全体で何エポックあり、うち現在何エポック目か\n",
        "- 1875/1875：\n",
        "  - 全体のバッチ数と、うち何番目のデータを処理中か\n",
        "    - バッチサイズは fit() メソッドの引数 batch_size として指定可能\n",
        "    - 省略するとデフォルトは 32\n",
        "    - なので、今回であれば学習用データが 60,000 枚でバッチサイズが 32 なので、順伝搬・逆伝搬＆重み更新が 60,000 / 32 = 1,875 回行われることになる\n",
        "    - batch_size=1 なら1データずつ重み更新を行うオンライン学習、batch_size=<データ数> なら全データを踏まえて1度の重み更新を行うバッチ学習\n",
        "  - 8s：\n",
        "    - 1エポックの処理時間（1エポック目はその他の準備等で長くなることが多い）\n",
        "  - 4ms/step：\n",
        "    - 1バッチの処理時間（8s / 1875epoch ≒ 4ms/step）\n",
        "  - loss: 0.0318 - accuracy: 0.9909\n",
        "    - 先ほど指定した Loss と Accuracy\n",
        "    - その他の指標を指定や追加していれば、それに応じて表示が変わる\n",
        "    - また、validation データを指定していた場合、エポックごとに学習データ・検証データ別に結果を得られる（）"
      ],
      "metadata": {
        "id": "EpW-lPiC4eTF"
      }
    },
    {
      "cell_type": "code",
      "source": [
        "model.fit(x_train, y_train, epochs=10)"
      ],
      "metadata": {
        "colab": {
          "base_uri": "https://localhost:8080/"
        },
        "id": "c2gaW-Gl3xWm",
        "outputId": "a80ec471-405c-4d4d-8d60-130dac8e627f"
      },
      "execution_count": null,
      "outputs": [
        {
          "output_type": "stream",
          "name": "stdout",
          "text": [
            "Epoch 1/10\n",
            "1563/1563 [==============================] - 8s 5ms/step - loss: 0.0042 - accuracy: 0.9989\n",
            "Epoch 2/10\n",
            "1563/1563 [==============================] - 8s 5ms/step - loss: 0.0087 - accuracy: 0.9983\n",
            "Epoch 3/10\n",
            "1563/1563 [==============================] - 8s 5ms/step - loss: 0.0044 - accuracy: 0.9991\n",
            "Epoch 4/10\n",
            "1563/1563 [==============================] - 8s 5ms/step - loss: 0.0082 - accuracy: 0.9984\n",
            "Epoch 5/10\n",
            "1563/1563 [==============================] - 8s 5ms/step - loss: 0.0074 - accuracy: 0.9987\n",
            "Epoch 6/10\n",
            "1563/1563 [==============================] - 8s 5ms/step - loss: 0.0079 - accuracy: 0.9988\n",
            "Epoch 7/10\n",
            "1563/1563 [==============================] - 8s 5ms/step - loss: 0.0052 - accuracy: 0.9992\n",
            "Epoch 8/10\n",
            "1563/1563 [==============================] - 8s 5ms/step - loss: 0.0071 - accuracy: 0.9989\n",
            "Epoch 9/10\n",
            "1563/1563 [==============================] - 8s 5ms/step - loss: 0.0130 - accuracy: 0.9980\n",
            "Epoch 10/10\n",
            "1563/1563 [==============================] - 8s 5ms/step - loss: 0.0047 - accuracy: 0.9993\n"
          ]
        },
        {
          "output_type": "execute_result",
          "data": {
            "text/plain": [
              "<keras.callbacks.History at 0x7f63bdcdbf90>"
            ]
          },
          "metadata": {},
          "execution_count": 17
        }
      ]
    },
    {
      "cell_type": "markdown",
      "source": [
        "## テスト"
      ],
      "metadata": {
        "id": "s8PVhba3EXOv"
      }
    },
    {
      "cell_type": "markdown",
      "source": [
        "### 予測\n",
        "\n",
        "- predict() メソッドを入力データを与えて呼び出す\n",
        "- 1データずつ for 文を回してもよいが、全データをそのままガツンと入力して全部計算させることも可能\n",
        "- y_pred には Softmax 前の10次元ベクトルが返ってくる\n",
        "  - Sequential() に渡して構築したモデルの出力は Softmax 前の値で、Loss 計算時に合わせて Softmax しているため"
      ],
      "metadata": {
        "id": "9zo6Ny0rEpc4"
      }
    },
    {
      "cell_type": "code",
      "source": [
        "y_pred = model.predict(x_test)\n",
        "y_pred, y_pred.shape"
      ],
      "metadata": {
        "colab": {
          "base_uri": "https://localhost:8080/"
        },
        "id": "k1-IibeGElNk",
        "outputId": "a3f3a13d-4c99-4d34-81c1-b7b4987a9185"
      },
      "execution_count": null,
      "outputs": [
        {
          "output_type": "execute_result",
          "data": {
            "text/plain": [
              "(array([[4.8937072e-18, 6.8083711e-13, 1.9390435e-12, ..., 1.0000000e+00,\n",
              "         1.0532149e-19, 7.9470608e-10],\n",
              "        [5.9848883e-23, 3.1845283e-19, 1.0000000e+00, ..., 4.6979428e-19,\n",
              "         2.0446887e-20, 5.6855104e-26],\n",
              "        [5.9265487e-22, 1.0000000e+00, 5.4487846e-15, ..., 3.2768340e-16,\n",
              "         5.9933201e-15, 1.0901179e-20],\n",
              "        ...,\n",
              "        [3.0955448e-28, 2.2876518e-23, 6.4136201e-25, ..., 5.2903217e-21,\n",
              "         2.0060045e-21, 8.7369739e-16],\n",
              "        [5.8358207e-23, 9.7657177e-21, 9.2174623e-30, ..., 3.0397414e-19,\n",
              "         3.1143981e-15, 2.5534991e-17],\n",
              "        [2.5115758e-14, 2.5137766e-17, 2.5400826e-17, ..., 2.3068543e-21,\n",
              "         2.3880899e-17, 1.6310285e-25]], dtype=float32), (10000, 10))"
            ]
          },
          "metadata": {},
          "execution_count": 10
        }
      ]
    },
    {
      "cell_type": "markdown",
      "source": [
        "- Softmax 前後で大小関係は変わらないので、そのまま予測ラベルに変換する\n",
        "- (0 から数えて) 1次元目の max をとり、そのインデックスを返す"
      ],
      "metadata": {
        "id": "Ikm8VaXrGlyH"
      }
    },
    {
      "cell_type": "code",
      "source": [
        "y_pred = y_pred.argmax(axis=1)"
      ],
      "metadata": {
        "id": "FbSE4wx5Gno7"
      },
      "execution_count": null,
      "outputs": []
    },
    {
      "cell_type": "markdown",
      "source": [
        "- Accuracy を計算"
      ],
      "metadata": {
        "id": "eAVpJpkcHU0A"
      }
    },
    {
      "cell_type": "code",
      "source": [
        "num = 0\n",
        "for pred, true in zip(y_pred, y_test):\n",
        "    if pred == true:\n",
        "        num += 1\n",
        "\n",
        "# 1行でも書ける（インポートは除いて）\n",
        "# import numpy as np\n",
        "# num = np.count_nonzero(y_pred == y_test)\n",
        "\n",
        "print(f'Accuracy: {num / len(y_test):.2%}')"
      ],
      "metadata": {
        "colab": {
          "base_uri": "https://localhost:8080/"
        },
        "id": "2cdUI-JxHaB-",
        "outputId": "adc9f118-0d5c-4bf9-ba70-88c6c71cd15a"
      },
      "execution_count": null,
      "outputs": [
        {
          "output_type": "stream",
          "name": "stdout",
          "text": [
            "Accuracy: 99.19%\n"
          ]
        }
      ]
    },
    {
      "cell_type": "markdown",
      "source": [
        "- predict で予測を受け取って後処理しなくても、実は evaluate() メソッドで1発"
      ],
      "metadata": {
        "id": "0hJ69TIALAyS"
      }
    },
    {
      "cell_type": "code",
      "source": [
        "model.evaluate(x_test, y_test)"
      ],
      "metadata": {
        "colab": {
          "base_uri": "https://localhost:8080/"
        },
        "id": "BrXYvQbaIPt9",
        "outputId": "cfb10ae4-6385-4af0-9cbf-d96f5264f9d4"
      },
      "execution_count": null,
      "outputs": [
        {
          "output_type": "stream",
          "name": "stdout",
          "text": [
            "313/313 [==============================] - 1s 3ms/step - loss: 0.0368 - accuracy: 0.9919\n"
          ]
        },
        {
          "output_type": "execute_result",
          "data": {
            "text/plain": [
              "[0.036786194890737534, 0.9919000267982483]"
            ]
          },
          "metadata": {},
          "execution_count": 13
        }
      ]
    },
    {
      "cell_type": "markdown",
      "source": [
        "## 付録"
      ],
      "metadata": {
        "id": "DK9bp_df-APD"
      }
    },
    {
      "cell_type": "markdown",
      "source": [
        "### 検証データで評価する\n",
        "\n",
        "- fit() メソッドの引数で validation_split を指定すると、学習データのうちそれだけの割合のデータが検証データとして扱われる\n",
        "- 引数 validation_data にタプルで指定することも可能"
      ],
      "metadata": {
        "id": "e5S9WTBL-CJx"
      }
    },
    {
      "cell_type": "code",
      "source": [
        "model.fit(x_train, y_train, epochs=10, validation_split=0.2)"
      ],
      "metadata": {
        "colab": {
          "base_uri": "https://localhost:8080/"
        },
        "id": "FKH4xmxQ-tPu",
        "outputId": "af1d51e7-ed92-43b9-d6f9-7e53aac82ba8"
      },
      "execution_count": null,
      "outputs": [
        {
          "output_type": "stream",
          "name": "stdout",
          "text": [
            "Epoch 1/10\n",
            "1500/1500 [==============================] - 8s 5ms/step - loss: 0.0095 - accuracy: 0.9974 - val_loss: 0.0123 - val_accuracy: 0.9967\n",
            "Epoch 2/10\n",
            "1500/1500 [==============================] - 7s 5ms/step - loss: 0.0089 - accuracy: 0.9979 - val_loss: 0.0171 - val_accuracy: 0.9949\n",
            "Epoch 3/10\n",
            "1500/1500 [==============================] - 8s 5ms/step - loss: 0.0112 - accuracy: 0.9972 - val_loss: 0.0236 - val_accuracy: 0.9951\n",
            "Epoch 4/10\n",
            "1500/1500 [==============================] - 7s 5ms/step - loss: 0.0088 - accuracy: 0.9977 - val_loss: 0.0154 - val_accuracy: 0.9963\n",
            "Epoch 5/10\n",
            "1500/1500 [==============================] - 8s 5ms/step - loss: 0.0083 - accuracy: 0.9980 - val_loss: 0.0326 - val_accuracy: 0.9927\n",
            "Epoch 6/10\n",
            "1500/1500 [==============================] - 8s 5ms/step - loss: 0.0099 - accuracy: 0.9976 - val_loss: 0.0141 - val_accuracy: 0.9969\n",
            "Epoch 7/10\n",
            "1500/1500 [==============================] - 8s 5ms/step - loss: 0.0061 - accuracy: 0.9987 - val_loss: 0.0211 - val_accuracy: 0.9966\n",
            "Epoch 8/10\n",
            "1500/1500 [==============================] - 8s 5ms/step - loss: 0.0061 - accuracy: 0.9985 - val_loss: 0.0101 - val_accuracy: 0.9977\n",
            "Epoch 9/10\n",
            "1500/1500 [==============================] - 8s 5ms/step - loss: 0.0075 - accuracy: 0.9981 - val_loss: 0.0241 - val_accuracy: 0.9950\n",
            "Epoch 10/10\n",
            "1500/1500 [==============================] - 8s 5ms/step - loss: 0.0094 - accuracy: 0.9980 - val_loss: 0.0200 - val_accuracy: 0.9952\n"
          ]
        },
        {
          "output_type": "execute_result",
          "data": {
            "text/plain": [
              "<keras.callbacks.History at 0x7f63be10b750>"
            ]
          },
          "metadata": {},
          "execution_count": 14
        }
      ]
    },
    {
      "cell_type": "code",
      "source": [
        "# 簡易的に分割\n",
        "# 本来は sciket-learn の train_test_split() を引数 stratify にラベルを指定して分割などするべき\n",
        "x_train, x_valid = x_train[:50000], x_train[50000:]\n",
        "y_train, y_valid = y_train[:50000], y_train[50000:]\n",
        "\n",
        "model.fit(x_train, y_train, epochs=10, validation_data=(x_valid, y_valid))"
      ],
      "metadata": {
        "colab": {
          "base_uri": "https://localhost:8080/"
        },
        "id": "cwvekJSB-zXP",
        "outputId": "96a412e4-ef0d-4c75-a4c3-6ca44142bea0"
      },
      "execution_count": null,
      "outputs": [
        {
          "output_type": "stream",
          "name": "stdout",
          "text": [
            "Epoch 1/10\n",
            "1563/1563 [==============================] - 10s 6ms/step - loss: 0.0071 - accuracy: 0.9987 - val_loss: 0.0117 - val_accuracy: 0.9977\n",
            "Epoch 2/10\n",
            "1563/1563 [==============================] - 10s 7ms/step - loss: 0.0057 - accuracy: 0.9988 - val_loss: 0.0178 - val_accuracy: 0.9970\n",
            "Epoch 3/10\n",
            "1563/1563 [==============================] - 9s 6ms/step - loss: 0.0090 - accuracy: 0.9981 - val_loss: 0.0213 - val_accuracy: 0.9945\n",
            "Epoch 4/10\n",
            "1563/1563 [==============================] - 9s 6ms/step - loss: 0.0082 - accuracy: 0.9983 - val_loss: 0.0290 - val_accuracy: 0.9954\n",
            "Epoch 5/10\n",
            "1563/1563 [==============================] - 9s 6ms/step - loss: 0.0081 - accuracy: 0.9984 - val_loss: 0.0285 - val_accuracy: 0.9967\n",
            "Epoch 6/10\n",
            "1563/1563 [==============================] - 9s 6ms/step - loss: 0.0069 - accuracy: 0.9985 - val_loss: 0.0316 - val_accuracy: 0.9951\n",
            "Epoch 7/10\n",
            "1563/1563 [==============================] - 9s 6ms/step - loss: 0.0062 - accuracy: 0.9987 - val_loss: 0.0327 - val_accuracy: 0.9964\n",
            "Epoch 8/10\n",
            "1563/1563 [==============================] - 9s 6ms/step - loss: 0.0096 - accuracy: 0.9984 - val_loss: 0.0255 - val_accuracy: 0.9944\n",
            "Epoch 9/10\n",
            "1563/1563 [==============================] - 9s 6ms/step - loss: 0.0074 - accuracy: 0.9983 - val_loss: 0.0426 - val_accuracy: 0.9955\n",
            "Epoch 10/10\n",
            "1563/1563 [==============================] - 9s 6ms/step - loss: 0.0064 - accuracy: 0.9986 - val_loss: 0.0250 - val_accuracy: 0.9960\n"
          ]
        },
        {
          "output_type": "execute_result",
          "data": {
            "text/plain": [
              "<keras.callbacks.History at 0x7f63be05c790>"
            ]
          },
          "metadata": {},
          "execution_count": 15
        }
      ]
    },
    {
      "cell_type": "markdown",
      "source": [
        "### 学習曲線の描画\n",
        "\n",
        "- matplotlib を用いる\n",
        "- fit() の戻り値に Loss や Accuracy が入っている"
      ],
      "metadata": {
        "id": "u-022p3DPCNK"
      }
    },
    {
      "cell_type": "code",
      "source": [
        "import matplotlib.pyplot as plt\n",
        "%matplotlib inline\n",
        "\n",
        "result = model.fit(x_train, y_train, epochs=10, validation_data=(x_valid, y_valid))\n",
        "\n",
        "fig, axes = plt.subplots(nrows=1, ncols=2)\n",
        "axes[0].plot(range(1, 11), result.history['accuracy'], label=\"train acc\")\n",
        "axes[0].plot(range(1, 11), result.history['val_accuracy'], label=\"valid acc\")\n",
        "axes[0].set_title('Accuracy')\n",
        "axes[0].set_ylim(0.0, 1.0)\n",
        "axes[0].legend()\n",
        "axes[1].plot(range(1, 11), result.history['loss'], label=\"train loss\")\n",
        "axes[1].plot(range(1, 11), result.history['val_loss'], label=\"valid loss\")\n",
        "axes[1].set_title('Loss')\n",
        "axes[1].set_ylim(0.0, 1.0)\n",
        "axes[1].legend()\n",
        "plt.show()"
      ],
      "metadata": {
        "colab": {
          "base_uri": "https://localhost:8080/",
          "height": 641
        },
        "id": "taV44CIjPO81",
        "outputId": "e044a545-2572-4ed2-c23b-ced3955d3461"
      },
      "execution_count": null,
      "outputs": [
        {
          "output_type": "stream",
          "name": "stdout",
          "text": [
            "Epoch 1/10\n",
            "1563/1563 [==============================] - 9s 6ms/step - loss: 0.0080 - accuracy: 0.9989 - val_loss: 0.0322 - val_accuracy: 0.9937\n",
            "Epoch 2/10\n",
            "1563/1563 [==============================] - 9s 6ms/step - loss: 0.0019 - accuracy: 0.9996 - val_loss: 0.0831 - val_accuracy: 0.9940\n",
            "Epoch 3/10\n",
            "1563/1563 [==============================] - 9s 6ms/step - loss: 0.0092 - accuracy: 0.9987 - val_loss: 0.0474 - val_accuracy: 0.9958\n",
            "Epoch 4/10\n",
            "1563/1563 [==============================] - 9s 5ms/step - loss: 0.0112 - accuracy: 0.9986 - val_loss: 0.0496 - val_accuracy: 0.9938\n",
            "Epoch 5/10\n",
            "1563/1563 [==============================] - 9s 6ms/step - loss: 0.0049 - accuracy: 0.9991 - val_loss: 0.0411 - val_accuracy: 0.9946\n",
            "Epoch 6/10\n",
            "1563/1563 [==============================] - 9s 6ms/step - loss: 0.0039 - accuracy: 0.9994 - val_loss: 0.0579 - val_accuracy: 0.9934\n",
            "Epoch 7/10\n",
            "1563/1563 [==============================] - 8s 5ms/step - loss: 0.0061 - accuracy: 0.9991 - val_loss: 0.0589 - val_accuracy: 0.9951\n",
            "Epoch 8/10\n",
            "1563/1563 [==============================] - 9s 5ms/step - loss: 0.0125 - accuracy: 0.9985 - val_loss: 0.0377 - val_accuracy: 0.9938\n",
            "Epoch 9/10\n",
            "1563/1563 [==============================] - 9s 6ms/step - loss: 0.0033 - accuracy: 0.9994 - val_loss: 0.0420 - val_accuracy: 0.9948\n",
            "Epoch 10/10\n",
            "1563/1563 [==============================] - 9s 6ms/step - loss: 0.0053 - accuracy: 0.9989 - val_loss: 0.0971 - val_accuracy: 0.9941\n"
          ]
        },
        {
          "output_type": "display_data",
          "data": {
            "text/plain": [
              "<Figure size 432x288 with 2 Axes>"
            ],
            "image/png": "[encoded data removed]"
          },
          "metadata": {
            "needs_background": "light"
          }
        }
      ]
    },
    {
      "cell_type": "markdown",
      "source": [
        "### 余談\n",
        "\n",
        "print() とかして <class at 0x0000> みたいな表示が出ることがある。\n",
        "これは、class名とその場所（C言語で言うところのポインタ的な）が表示されている。\n",
        "原因はそのクラスに print() をした時の戻り値が定義されていないから。\n",
        "具体的には、__repr__() という関数を定義し、戻り値を返すよう実装すれば良い"
      ],
      "metadata": {
        "id": "pG2xScmRrTZo"
      }
    },
    {
      "cell_type": "code",
      "source": [
        "class A:\n",
        "    pass\n",
        "\n",
        "class B:\n",
        "    def __repr__(self):\n",
        "        return 'class B'\n",
        "\n",
        "a = A()\n",
        "b = B()\n",
        "\n",
        "a, b"
      ],
      "metadata": {
        "colab": {
          "base_uri": "https://localhost:8080/"
        },
        "id": "f7J35642q2x3",
        "outputId": "69cf9246-207b-4213-d74c-731378ea9346"
      },
      "execution_count": null,
      "outputs": [
        {
          "output_type": "execute_result",
          "data": {
            "text/plain": [
              "(<__main__.A at 0x7f63bdbca2d0>, class B)"
            ]
          },
          "metadata": {},
          "execution_count": 20
        }
      ]
    },
    {
      "cell_type": "markdown",
      "source": [
        "### さらに余談\n",
        "\n",
        "__repr__() 以外にも、デフォルト定義の関数は色々ある。\n",
        "例えば、割り算(/)の定義は __truediv__() を定義すれば上書きできる。\n",
        "パスを操作する Pathlib というライブラリ（の Path クラス）では、割り算にパスの連結を定義している。"
      ],
      "metadata": {
        "id": "v-HRXwuKsBd5"
      }
    },
    {
      "cell_type": "code",
      "source": [
        "from pathlib import Path\n",
        "\n",
        "dir = Path('dir')\n",
        "file = Path('file.txt')\n",
        "\n",
        "dir / file"
      ],
      "metadata": {
        "colab": {
          "base_uri": "https://localhost:8080/"
        },
        "id": "jUr_jmRxs7Fv",
        "outputId": "cc7df30f-9bfc-41ad-dd92-5c921a5a2b67"
      },
      "execution_count": null,
      "outputs": [
        {
          "output_type": "execute_result",
          "data": {
            "text/plain": [
              "PosixPath('dir/file.txt')"
            ]
          },
          "metadata": {},
          "execution_count": 21
        }
      ]
    }
  ]
}
